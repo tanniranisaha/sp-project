{
  "nbformat": 4,
  "nbformat_minor": 0,
  "metadata": {
    "colab": {
      "provenance": []
    },
    "kernelspec": {
      "name": "python3",
      "display_name": "Python 3"
    },
    "language_info": {
      "name": "python"
    }
  },
  "cells": [
    {
      "cell_type": "code",
      "execution_count": null,
      "metadata": {
        "colab": {
          "base_uri": "https://localhost:8080/"
        },
        "id": "FQn8T3Lz4OfP",
        "outputId": "b878f7c3-7cd1-410b-ac78-f9fe3919fd77"
      },
      "outputs": [
        {
          "output_type": "stream",
          "name": "stdout",
          "text": [
            "Requirement already satisfied: pyspark in /usr/local/lib/python3.7/dist-packages (3.2.1)\n",
            "Requirement already satisfied: py4j==0.10.9.3 in /usr/local/lib/python3.7/dist-packages (from pyspark) (0.10.9.3)\n"
          ]
        }
      ],
      "source": [
        "!pip install pyspark"
      ]
    },
    {
      "cell_type": "code",
      "source": [
        "!pip install findspark"
      ],
      "metadata": {
        "colab": {
          "base_uri": "https://localhost:8080/"
        },
        "id": "NOAFOWY54k1O",
        "outputId": "60237103-f3e6-47b5-e88a-0c8df07e9513"
      },
      "execution_count": null,
      "outputs": [
        {
          "output_type": "stream",
          "name": "stdout",
          "text": [
            "Requirement already satisfied: findspark in /usr/local/lib/python3.7/dist-packages (2.0.1)\n"
          ]
        }
      ]
    },
    {
      "cell_type": "code",
      "source": [
        "import findspark\n",
        "findspark.init()\n",
        "import pyspark\n",
        "from pyspark.sql import SparkSession\n",
        "spark = SparkSession.builder.getOrCreate()"
      ],
      "metadata": {
        "id": "KlKABvL34tMf"
      },
      "execution_count": null,
      "outputs": []
    },
    {
      "cell_type": "code",
      "source": [
        "from google.colab import drive\n",
        "drive.mount(\"/gdrive\")"
      ],
      "metadata": {
        "colab": {
          "base_uri": "https://localhost:8080/"
        },
        "id": "ytF6XJ714zoO",
        "outputId": "ac86c660-5be0-4e57-aed9-fbf79c839ebb"
      },
      "execution_count": null,
      "outputs": [
        {
          "output_type": "stream",
          "name": "stdout",
          "text": [
            "Drive already mounted at /gdrive; to attempt to forcibly remount, call drive.mount(\"/gdrive\", force_remount=True).\n"
          ]
        }
      ]
    },
    {
      "cell_type": "code",
      "source": [
        "file_location = \"/gdrive/MyDrive/Class/Semester10/Big_data_lab_final/Footballer Goal Predictions.csv\"\n",
        "file_type = \"csv\"\n",
        "\n",
        "\n",
        "delimiter = \",\"\n",
        "\n",
        "df =spark.read.csv(file_location,header=True,inferSchema=True)\n",
        "df.show()\n"
      ],
      "metadata": {
        "colab": {
          "base_uri": "https://localhost:8080/"
        },
        "id": "rLPyS1fW41N2",
        "outputId": "d20bd515-3ff3-49b1-ddf9-1a0aca523e8d"
      },
      "execution_count": null,
      "outputs": [
        {
          "output_type": "stream",
          "name": "stdout",
          "text": [
            "+---------+-----------+-------------+---+--------------+------+--------+-------------------+----------------------+----+----+--------+-------------+----+\n",
            "|Palyer No|Nationality|       League|Age|Height(meters)|Weight|Position|Avg Goal Per Season|Goal in Current Season| _c9|_c10|    _c11|         _c12|_c13|\n",
            "+---------+-----------+-------------+---+--------------+------+--------+-------------------+----------------------+----+----+--------+-------------+----+\n",
            "|        1|   N. Irish| Championship| 30|   1.550683467|    77|      LW|                 10|                     7|null|null|    null|         null|null|\n",
            "|        2|      Irish|      La Liga| 25|   1.382859152|    69|      AM|                 13|                     6|null|null|    null|         null|null|\n",
            "|        3|   N. Irish| Championship| 18|   1.450483026|    77|      LW|                 12|                    25|null|null|    null|         null|null|\n",
            "|        4|   Scottish|      Seire A| 35|   1.576400499|    80|      LW|                 21|                    31|null|null| English|Premier Leage|  CF|\n",
            "|        5|   N. Irish| Championship| 26|   1.422767055|    74|     CDM|                  8|                    12|null|null| Belgiun| Championship| CDM|\n",
            "|        6|   N. Irish|Premier Leage| 20|   1.718383942|    64|      LW|                 12|                     5|null|null|Scottish|   League One|  MF|\n",
            "|        7|    English| Championship| 34|    1.29721932|    76|      LB|                 14|                    26|null|null|  Walesh|      Seire A|  AM|\n",
            "|        8|    Spanish|   League One| 20|   1.750187407|    71|      MF|                 27|                     5|null|null|   Irish|     League 1|  LW|\n",
            "|        9|     Walesh|   League One| 23|   1.726996446|    65|      CF|                 14|                     8|null|null|N. Irish|   Bundesliga|  RW|\n",
            "|       10|     German|     League 1| 18|   1.739246785|    81|      DF|                 16|                     4|null|null| Spanish|      La Liga|  DF|\n",
            "|       11|     Walesh|      Seire A| 35|   1.909998649|    60|      GK|                 27|                     5|null|null|  French|         null|  RB|\n",
            "|       12|     German| Championship| 28|   1.484256227|    62|      CF|                 22|                    31|null|null|  German|         null|  LB|\n",
            "|       13|     German|   League One| 33|   1.469383773|    64|      LW|                 10|                    12|null|null|    null|         null|  GK|\n",
            "|       14|   Scottish|     League 1| 27|   1.626790183|    64|      LB|                 22|                     9|null|null|    null|         null|null|\n",
            "|       15|    Spanish| Championship| 18|   1.668901042|    67|      DF|                 31|                     6|null|null|    null|         null|null|\n",
            "|       16|    English|      La Liga| 20|   1.238530327|    73|      MF|                 32|                    23|null|null|    null|         null|null|\n",
            "|       17|   N. Irish|      Seire A| 23|   1.375994801|    69|      AM|                 10|                     6|null|null|    null|         null|null|\n",
            "|       18|    Belgiun| Championship| 33|   1.243577157|    83|      RW|                 20|                     6|null|null|    null|         null|null|\n",
            "|       19|   Scottish|      La Liga| 22|   1.417341686|    64|      DF|                  9|                     9|null|null|    null|         null|null|\n",
            "|       20|     Walesh|      Seire A| 26|   1.916177983|    69|      MF|                  4|                    12|null|null|    null|         null|null|\n",
            "+---------+-----------+-------------+---+--------------+------+--------+-------------------+----------------------+----+----+--------+-------------+----+\n",
            "only showing top 20 rows\n",
            "\n"
          ]
        }
      ]
    },
    {
      "cell_type": "code",
      "source": [
        "df.printSchema()"
      ],
      "metadata": {
        "colab": {
          "base_uri": "https://localhost:8080/"
        },
        "id": "UNScyHtn42Xt",
        "outputId": "e51b2122-cd5f-4efc-c2e8-937e2a4e9a79"
      },
      "execution_count": null,
      "outputs": [
        {
          "output_type": "stream",
          "name": "stdout",
          "text": [
            "root\n",
            " |-- Palyer No: integer (nullable = true)\n",
            " |-- Nationality: string (nullable = true)\n",
            " |-- League: string (nullable = true)\n",
            " |-- Age: integer (nullable = true)\n",
            " |-- Height(meters): double (nullable = true)\n",
            " |-- Weight: integer (nullable = true)\n",
            " |-- Position: string (nullable = true)\n",
            " |-- Avg Goal Per Season: integer (nullable = true)\n",
            " |-- Goal in Current Season: integer (nullable = true)\n",
            " |-- _c9: string (nullable = true)\n",
            " |-- _c10: string (nullable = true)\n",
            " |-- _c11: string (nullable = true)\n",
            " |-- _c12: string (nullable = true)\n",
            " |-- _c13: string (nullable = true)\n",
            "\n"
          ]
        }
      ]
    },
    {
      "cell_type": "code",
      "source": [
        "df.columns"
      ],
      "metadata": {
        "colab": {
          "base_uri": "https://localhost:8080/"
        },
        "id": "2cVoIH5L5BXX",
        "outputId": "730e21d2-b6c8-49ed-e7b8-73c83e82c7f2"
      },
      "execution_count": null,
      "outputs": [
        {
          "output_type": "execute_result",
          "data": {
            "text/plain": [
              "['Palyer No',\n",
              " 'Nationality',\n",
              " 'League',\n",
              " 'Age',\n",
              " 'Height(meters)',\n",
              " 'Weight',\n",
              " 'Position',\n",
              " 'Avg Goal Per Season',\n",
              " 'Goal in Current Season',\n",
              " '_c9',\n",
              " '_c10',\n",
              " '_c11',\n",
              " '_c12',\n",
              " '_c13']"
            ]
          },
          "metadata": {},
          "execution_count": 63
        }
      ]
    },
    {
      "cell_type": "code",
      "source": [
        "df.tail(5)"
      ],
      "metadata": {
        "colab": {
          "base_uri": "https://localhost:8080/"
        },
        "id": "fXaCgGoRCNiR",
        "outputId": "ffd49ef6-2c48-4bae-ca90-224d010345c2"
      },
      "execution_count": null,
      "outputs": [
        {
          "output_type": "execute_result",
          "data": {
            "text/plain": [
              "[Row(Palyer No=796, Nationality='English', League='League 1', Age=31, Height(meters)=1.886972362, Weight=78, Position='RW', Avg Goal Per Season=29, Goal in Current Season=12, _c9=None, _c10=None, _c11=None, _c12=None, _c13=None),\n",
              " Row(Palyer No=797, Nationality='Belgiun', League='League One', Age=27, Height(meters)=1.356848666, Weight=79, Position='LB', Avg Goal Per Season=29, Goal in Current Season=7, _c9=None, _c10=None, _c11=None, _c12=None, _c13=None),\n",
              " Row(Palyer No=798, Nationality='Scottish', League='Premier Leage', Age=29, Height(meters)=1.70142482, Weight=58, Position='RB', Avg Goal Per Season=32, Goal in Current Season=13, _c9=None, _c10=None, _c11=None, _c12=None, _c13=None),\n",
              " Row(Palyer No=799, Nationality='Belgiun', League='La Liga', Age=33, Height(meters)=1.811318061, Weight=85, Position='CDM', Avg Goal Per Season=24, Goal in Current Season=12, _c9=None, _c10=None, _c11=None, _c12=None, _c13=None),\n",
              " Row(Palyer No=800, Nationality='N. Irish', League='Bundesliga', Age=32, Height(meters)=1.270430902, Weight=85, Position='LB', Avg Goal Per Season=30, Goal in Current Season=4, _c9=None, _c10=None, _c11=None, _c12=None, _c13=None)]"
            ]
          },
          "metadata": {},
          "execution_count": 64
        }
      ]
    },
    {
      "cell_type": "code",
      "source": [
        " df = df.drop('Palyer No', 'Nationality','League,')"
      ],
      "metadata": {
        "id": "Gr39do1r8_CQ"
      },
      "execution_count": null,
      "outputs": []
    },
    {
      "cell_type": "code",
      "source": [
        "Data =df.select('Age','Height(meters)','Weight','Avg Goal Per Season','Goal in Current Season')"
      ],
      "metadata": {
        "id": "HsZNzLIn_80X"
      },
      "execution_count": null,
      "outputs": []
    },
    {
      "cell_type": "code",
      "source": [
        "Data.show()"
      ],
      "metadata": {
        "colab": {
          "base_uri": "https://localhost:8080/"
        },
        "id": "xUVQdhZM_82o",
        "outputId": "1fb2ca08-2d2e-4929-cfcc-b6bab5577aac"
      },
      "execution_count": null,
      "outputs": [
        {
          "output_type": "stream",
          "name": "stdout",
          "text": [
            "+---+--------------+------+-------------------+----------------------+\n",
            "|Age|Height(meters)|Weight|Avg Goal Per Season|Goal in Current Season|\n",
            "+---+--------------+------+-------------------+----------------------+\n",
            "| 30|   1.550683467|    77|                 10|                     7|\n",
            "| 25|   1.382859152|    69|                 13|                     6|\n",
            "| 18|   1.450483026|    77|                 12|                    25|\n",
            "| 35|   1.576400499|    80|                 21|                    31|\n",
            "| 26|   1.422767055|    74|                  8|                    12|\n",
            "| 20|   1.718383942|    64|                 12|                     5|\n",
            "| 34|    1.29721932|    76|                 14|                    26|\n",
            "| 20|   1.750187407|    71|                 27|                     5|\n",
            "| 23|   1.726996446|    65|                 14|                     8|\n",
            "| 18|   1.739246785|    81|                 16|                     4|\n",
            "| 35|   1.909998649|    60|                 27|                     5|\n",
            "| 28|   1.484256227|    62|                 22|                    31|\n",
            "| 33|   1.469383773|    64|                 10|                    12|\n",
            "| 27|   1.626790183|    64|                 22|                     9|\n",
            "| 18|   1.668901042|    67|                 31|                     6|\n",
            "| 20|   1.238530327|    73|                 32|                    23|\n",
            "| 23|   1.375994801|    69|                 10|                     6|\n",
            "| 33|   1.243577157|    83|                 20|                     6|\n",
            "| 22|   1.417341686|    64|                  9|                     9|\n",
            "| 26|   1.916177983|    69|                  4|                    12|\n",
            "+---+--------------+------+-------------------+----------------------+\n",
            "only showing top 20 rows\n",
            "\n"
          ]
        }
      ]
    },
    {
      "cell_type": "code",
      "source": [
        "Data.columns"
      ],
      "metadata": {
        "colab": {
          "base_uri": "https://localhost:8080/"
        },
        "id": "FZDZFbCx5L8G",
        "outputId": "0c5c3a43-fc45-42df-9064-accbfd3b304f"
      },
      "execution_count": null,
      "outputs": [
        {
          "output_type": "execute_result",
          "data": {
            "text/plain": [
              "['Age',\n",
              " 'Height(meters)',\n",
              " 'Weight',\n",
              " 'Avg Goal Per Season',\n",
              " 'Goal in Current Season']"
            ]
          },
          "metadata": {},
          "execution_count": 68
        }
      ]
    },
    {
      "cell_type": "code",
      "source": [
        "from pyspark.ml.feature import VectorAssembler\n",
        "featureassembler=VectorAssembler(inputCols=['Age',\n",
        " 'Height(meters)',\n",
        " 'Weight',\n",
        " 'Avg Goal Per Season'],outputCol=\"features\")\n",
        "output=featureassembler.transform(Data)"
      ],
      "metadata": {
        "id": "MbuM8bsK5N7G"
      },
      "execution_count": null,
      "outputs": []
    },
    {
      "cell_type": "code",
      "source": [
        "output.select('features').show()"
      ],
      "metadata": {
        "colab": {
          "base_uri": "https://localhost:8080/"
        },
        "id": "xN81QjPh5Pv3",
        "outputId": "69019b6f-d751-486e-8c96-a80f8a92cdb9"
      },
      "execution_count": null,
      "outputs": [
        {
          "output_type": "stream",
          "name": "stdout",
          "text": [
            "+--------------------+\n",
            "|            features|\n",
            "+--------------------+\n",
            "|[30.0,1.550683467...|\n",
            "|[25.0,1.382859152...|\n",
            "|[18.0,1.450483026...|\n",
            "|[35.0,1.576400499...|\n",
            "|[26.0,1.422767055...|\n",
            "|[20.0,1.718383942...|\n",
            "|[34.0,1.29721932,...|\n",
            "|[20.0,1.750187407...|\n",
            "|[23.0,1.726996446...|\n",
            "|[18.0,1.739246785...|\n",
            "|[35.0,1.909998649...|\n",
            "|[28.0,1.484256227...|\n",
            "|[33.0,1.469383773...|\n",
            "|[27.0,1.626790183...|\n",
            "|[18.0,1.668901042...|\n",
            "|[20.0,1.238530327...|\n",
            "|[23.0,1.375994801...|\n",
            "|[33.0,1.243577157...|\n",
            "|[22.0,1.417341686...|\n",
            "|[26.0,1.916177983...|\n",
            "+--------------------+\n",
            "only showing top 20 rows\n",
            "\n"
          ]
        }
      ]
    },
    {
      "cell_type": "code",
      "source": [
        "output.show()"
      ],
      "metadata": {
        "colab": {
          "base_uri": "https://localhost:8080/"
        },
        "id": "oW4qZirg5Qzo",
        "outputId": "04ef8d26-5470-4046-bb03-2860b69c1f0f"
      },
      "execution_count": null,
      "outputs": [
        {
          "output_type": "stream",
          "name": "stdout",
          "text": [
            "+---+--------------+------+-------------------+----------------------+--------------------+\n",
            "|Age|Height(meters)|Weight|Avg Goal Per Season|Goal in Current Season|            features|\n",
            "+---+--------------+------+-------------------+----------------------+--------------------+\n",
            "| 30|   1.550683467|    77|                 10|                     7|[30.0,1.550683467...|\n",
            "| 25|   1.382859152|    69|                 13|                     6|[25.0,1.382859152...|\n",
            "| 18|   1.450483026|    77|                 12|                    25|[18.0,1.450483026...|\n",
            "| 35|   1.576400499|    80|                 21|                    31|[35.0,1.576400499...|\n",
            "| 26|   1.422767055|    74|                  8|                    12|[26.0,1.422767055...|\n",
            "| 20|   1.718383942|    64|                 12|                     5|[20.0,1.718383942...|\n",
            "| 34|    1.29721932|    76|                 14|                    26|[34.0,1.29721932,...|\n",
            "| 20|   1.750187407|    71|                 27|                     5|[20.0,1.750187407...|\n",
            "| 23|   1.726996446|    65|                 14|                     8|[23.0,1.726996446...|\n",
            "| 18|   1.739246785|    81|                 16|                     4|[18.0,1.739246785...|\n",
            "| 35|   1.909998649|    60|                 27|                     5|[35.0,1.909998649...|\n",
            "| 28|   1.484256227|    62|                 22|                    31|[28.0,1.484256227...|\n",
            "| 33|   1.469383773|    64|                 10|                    12|[33.0,1.469383773...|\n",
            "| 27|   1.626790183|    64|                 22|                     9|[27.0,1.626790183...|\n",
            "| 18|   1.668901042|    67|                 31|                     6|[18.0,1.668901042...|\n",
            "| 20|   1.238530327|    73|                 32|                    23|[20.0,1.238530327...|\n",
            "| 23|   1.375994801|    69|                 10|                     6|[23.0,1.375994801...|\n",
            "| 33|   1.243577157|    83|                 20|                     6|[33.0,1.243577157...|\n",
            "| 22|   1.417341686|    64|                  9|                     9|[22.0,1.417341686...|\n",
            "| 26|   1.916177983|    69|                  4|                    12|[26.0,1.916177983...|\n",
            "+---+--------------+------+-------------------+----------------------+--------------------+\n",
            "only showing top 20 rows\n",
            "\n"
          ]
        }
      ]
    },
    {
      "cell_type": "code",
      "source": [
        "data=output.select(\"features\",'Goal in Current Season')"
      ],
      "metadata": {
        "id": "xtdZIX8l5R-n"
      },
      "execution_count": null,
      "outputs": []
    },
    {
      "cell_type": "code",
      "source": [
        "data.show()"
      ],
      "metadata": {
        "colab": {
          "base_uri": "https://localhost:8080/"
        },
        "id": "HYJC70ol5TdO",
        "outputId": "8f75aaf1-c2f0-4c34-eb24-ba0ea608be9d"
      },
      "execution_count": null,
      "outputs": [
        {
          "output_type": "stream",
          "name": "stdout",
          "text": [
            "+--------------------+----------------------+\n",
            "|            features|Goal in Current Season|\n",
            "+--------------------+----------------------+\n",
            "|[30.0,1.550683467...|                     7|\n",
            "|[25.0,1.382859152...|                     6|\n",
            "|[18.0,1.450483026...|                    25|\n",
            "|[35.0,1.576400499...|                    31|\n",
            "|[26.0,1.422767055...|                    12|\n",
            "|[20.0,1.718383942...|                     5|\n",
            "|[34.0,1.29721932,...|                    26|\n",
            "|[20.0,1.750187407...|                     5|\n",
            "|[23.0,1.726996446...|                     8|\n",
            "|[18.0,1.739246785...|                     4|\n",
            "|[35.0,1.909998649...|                     5|\n",
            "|[28.0,1.484256227...|                    31|\n",
            "|[33.0,1.469383773...|                    12|\n",
            "|[27.0,1.626790183...|                     9|\n",
            "|[18.0,1.668901042...|                     6|\n",
            "|[20.0,1.238530327...|                    23|\n",
            "|[23.0,1.375994801...|                     6|\n",
            "|[33.0,1.243577157...|                     6|\n",
            "|[22.0,1.417341686...|                     9|\n",
            "|[26.0,1.916177983...|                    12|\n",
            "+--------------------+----------------------+\n",
            "only showing top 20 rows\n",
            "\n"
          ]
        }
      ]
    },
    {
      "cell_type": "markdown",
      "source": [
        "LogisticRegression"
      ],
      "metadata": {
        "id": "z_dKApSrB2sR"
      }
    },
    {
      "cell_type": "code",
      "source": [
        "from pyspark.ml.classification import LogisticRegression\n",
        "lr=LogisticRegression()"
      ],
      "metadata": {
        "id": "EBkIwoQQ5VF_"
      },
      "execution_count": null,
      "outputs": []
    },
    {
      "cell_type": "code",
      "source": [
        "data=data.withColumnRenamed('Goal in Current Season','label')\n",
        "\n",
        "train_data,test_data=data.randomSplit([0.75,0.25])"
      ],
      "metadata": {
        "id": "PaFHd5Tm5V13"
      },
      "execution_count": null,
      "outputs": []
    },
    {
      "cell_type": "code",
      "source": [
        "data.columns"
      ],
      "metadata": {
        "colab": {
          "base_uri": "https://localhost:8080/"
        },
        "id": "DYrF9jn65V4e",
        "outputId": "bffa5f2c-2e79-4695-97be-db31b516c956"
      },
      "execution_count": null,
      "outputs": [
        {
          "output_type": "execute_result",
          "data": {
            "text/plain": [
              "['features', 'label']"
            ]
          },
          "metadata": {},
          "execution_count": 76
        }
      ]
    },
    {
      "cell_type": "code",
      "source": [
        "lr=LogisticRegression(featuresCol='features', labelCol='label')\n",
        "lr=lr.fit(train_data)"
      ],
      "metadata": {
        "id": "k7fwKyYdBiLB"
      },
      "execution_count": null,
      "outputs": []
    },
    {
      "cell_type": "code",
      "source": [
        "mlr = LogisticRegression(maxIter=10, regParam=0.3, elasticNetParam=0.8, family=\"multinomial\")\n"
      ],
      "metadata": {
        "id": "Emm6HKKiBiOq"
      },
      "execution_count": null,
      "outputs": []
    },
    {
      "cell_type": "code",
      "source": [
        "mlrModel = mlr.fit(train_data)"
      ],
      "metadata": {
        "id": "OsWo0GesBiQx"
      },
      "execution_count": null,
      "outputs": []
    },
    {
      "cell_type": "code",
      "source": [
        "print(\"Multinomial coefficients: \" + str(mlrModel.coefficientMatrix))\n",
        "print(\"Multinomial intercepts: \" + str(mlrModel.interceptVector))"
      ],
      "metadata": {
        "colab": {
          "base_uri": "https://localhost:8080/"
        },
        "id": "FUr67mgFBs9B",
        "outputId": "be445286-5030-4f4d-bf3e-1aec3706c154"
      },
      "execution_count": null,
      "outputs": [
        {
          "output_type": "stream",
          "name": "stdout",
          "text": [
            "Multinomial coefficients: 33 X 4 CSCMatrix\n",
            "\n",
            "Multinomial intercepts: [-5.579391811223756,-5.579391811223756,-5.579391811223756,-5.579391811223756,0.9873591018034049,0.5492028845499451,1.0718138448017922,0.4551006123003679,0.8604147938551121,0.59788718142266,0.9439439976615559,0.759415599828007,0.8088391267044871,0.8604147938551636,0.5978871814226596,0.5978871814226613,0.7076216167983895,0.8088391267044882,0.8088391267044872,0.5978871814226714,1.145987210525471,0.8088391267044888,0.7076216167983883,0.8995157925423392,0.9873591018034005,0.5492028845499429,1.0718138448018508,0.5978871814226464,0.8088391267044913,0.8088391267044907,0.24905496052005813,0.8088391267044893,0.8604147938551185]\n"
          ]
        }
      ]
    },
    {
      "cell_type": "markdown",
      "source": [
        "Decession tree"
      ],
      "metadata": {
        "id": "Q36_yLJ4Gi0D"
      }
    },
    {
      "cell_type": "code",
      "source": [
        "from pyspark.ml import Pipeline\n",
        "from pyspark.ml.classification import DecisionTreeClassifier\n",
        "from pyspark.ml.feature import StringIndexer, VectorIndexer\n",
        "from pyspark.ml.evaluation import MulticlassClassificationEvaluator"
      ],
      "metadata": {
        "id": "8GTrgjhOGkks"
      },
      "execution_count": null,
      "outputs": []
    },
    {
      "cell_type": "code",
      "source": [
        "labelIndexer = StringIndexer(inputCol=\"label\", outputCol=\"indexedLabel\").fit(data)"
      ],
      "metadata": {
        "id": "LeyyUU-hGmcU"
      },
      "execution_count": null,
      "outputs": []
    },
    {
      "cell_type": "code",
      "source": [
        "featureIndexer =\\\n",
        "    VectorIndexer(inputCol=\"features\", outputCol=\"indexedFeatures\", maxCategories=4).fit(data)"
      ],
      "metadata": {
        "id": "uMVqES35GmgD"
      },
      "execution_count": null,
      "outputs": []
    },
    {
      "cell_type": "code",
      "source": [
        "(trainingData, testData) = data.randomSplit([0.7, 0.3])"
      ],
      "metadata": {
        "id": "ELY4JTTeGmiL"
      },
      "execution_count": null,
      "outputs": []
    },
    {
      "cell_type": "code",
      "source": [
        "dt = DecisionTreeClassifier(labelCol=\"indexedLabel\", featuresCol=\"indexedFeatures\")\n"
      ],
      "metadata": {
        "id": "FSQSfOSxGml0"
      },
      "execution_count": null,
      "outputs": []
    },
    {
      "cell_type": "code",
      "source": [
        "pipeline = Pipeline(stages=[labelIndexer, featureIndexer, dt])"
      ],
      "metadata": {
        "id": "7e2tfw5LGmpj"
      },
      "execution_count": null,
      "outputs": []
    },
    {
      "cell_type": "code",
      "source": [
        "model = pipeline.fit(trainingData)"
      ],
      "metadata": {
        "id": "Tg3nNFp6GmtU"
      },
      "execution_count": null,
      "outputs": []
    },
    {
      "cell_type": "code",
      "source": [
        "predictions = model.transform(testData)\n",
        "predictions.select(\"prediction\", \"indexedLabel\", \"features\").show(5)"
      ],
      "metadata": {
        "colab": {
          "base_uri": "https://localhost:8080/"
        },
        "id": "dTiroAQgGmvz",
        "outputId": "b6bf3bdd-f1da-4ece-ca0f-2b871bae6e06"
      },
      "execution_count": null,
      "outputs": [
        {
          "output_type": "stream",
          "name": "stdout",
          "text": [
            "+----------+------------+--------------------+\n",
            "|prediction|indexedLabel|            features|\n",
            "+----------+------------+--------------------+\n",
            "|       0.0|        14.0|[18.0,1.223435399...|\n",
            "|       0.0|        23.0|[18.0,1.234666411...|\n",
            "|       0.0|         7.0|[18.0,1.255646443...|\n",
            "|       0.0|         3.0|[18.0,1.259994546...|\n",
            "|       0.0|         9.0|[18.0,1.265981936...|\n",
            "+----------+------------+--------------------+\n",
            "only showing top 5 rows\n",
            "\n"
          ]
        }
      ]
    },
    {
      "cell_type": "code",
      "source": [
        "evaluator = MulticlassClassificationEvaluator(\n",
        "    labelCol=\"indexedLabel\", predictionCol=\"prediction\", metricName=\"accuracy\")\n",
        "accuracy = evaluator.evaluate(predictions)\n",
        "print(\"Test Error = %g \" % (1.0 - accuracy))"
      ],
      "metadata": {
        "colab": {
          "base_uri": "https://localhost:8080/"
        },
        "id": "tSZ5OcwEGvg0",
        "outputId": "c7c80d29-6cbb-467d-91bf-4c487c4152a7"
      },
      "execution_count": null,
      "outputs": [
        {
          "output_type": "stream",
          "name": "stdout",
          "text": [
            "Test Error = 0.956522 \n"
          ]
        }
      ]
    },
    {
      "cell_type": "code",
      "source": [
        "treeModel = model.stages[2]"
      ],
      "metadata": {
        "id": "hH2UEUEWGwtF"
      },
      "execution_count": null,
      "outputs": []
    },
    {
      "cell_type": "code",
      "source": [
        "print(treeModel)"
      ],
      "metadata": {
        "colab": {
          "base_uri": "https://localhost:8080/"
        },
        "id": "iCG7aVWcGx00",
        "outputId": "b9a0fc70-82a9-4b94-8b67-d78ebc0dbdf1"
      },
      "execution_count": null,
      "outputs": [
        {
          "output_type": "stream",
          "name": "stdout",
          "text": [
            "DecisionTreeClassificationModel: uid=DecisionTreeClassifier_d56e484d92f5, depth=5, numNodes=51, numClasses=29, numFeatures=4\n"
          ]
        }
      ]
    },
    {
      "cell_type": "markdown",
      "source": [
        "random forest"
      ],
      "metadata": {
        "id": "rMIYhtEpB6Op"
      }
    },
    {
      "cell_type": "code",
      "source": [
        "from pyspark.ml import Pipeline\n",
        "from pyspark.ml.classification import RandomForestClassifier\n",
        "from pyspark.ml.feature import IndexToString, StringIndexer, VectorIndexer\n",
        "from pyspark.ml.evaluation import MulticlassClassificationEvaluator"
      ],
      "metadata": {
        "id": "dYbKlvX9B5jh"
      },
      "execution_count": null,
      "outputs": []
    },
    {
      "cell_type": "code",
      "source": [
        "labelIndexer = StringIndexer(inputCol=\"label\", outputCol=\"indexedLabel\").fit(data)\n"
      ],
      "metadata": {
        "id": "tHugqiOaB5rQ"
      },
      "execution_count": null,
      "outputs": []
    },
    {
      "cell_type": "code",
      "source": [
        "featureIndexer =VectorIndexer(inputCol=\"features\", outputCol=\"indexedFeatures\", maxCategories=4).fit(data)"
      ],
      "metadata": {
        "id": "j71Pix6RB5tk"
      },
      "execution_count": null,
      "outputs": []
    },
    {
      "cell_type": "code",
      "source": [
        "(trainingData, testData) = data.randomSplit([0.7, 0.3])"
      ],
      "metadata": {
        "id": "deXoJ8pGGYg8"
      },
      "execution_count": null,
      "outputs": []
    },
    {
      "cell_type": "code",
      "source": [
        "rf = RandomForestClassifier(labelCol=\"indexedLabel\", featuresCol=\"indexedFeatures\", numTrees=10)"
      ],
      "metadata": {
        "id": "6GvEHppNGYpD"
      },
      "execution_count": null,
      "outputs": []
    },
    {
      "cell_type": "code",
      "source": [
        "labelConverter = IndexToString(inputCol=\"prediction\", outputCol=\"predictedLabel\",\n",
        "                               labels=labelIndexer.labels)"
      ],
      "metadata": {
        "id": "98oLMT5bGYrK"
      },
      "execution_count": null,
      "outputs": []
    },
    {
      "cell_type": "code",
      "source": [
        "pipeline = Pipeline(stages=[labelIndexer, featureIndexer, rf, labelConverter])\n"
      ],
      "metadata": {
        "id": "KTbgjJu0GYst"
      },
      "execution_count": null,
      "outputs": []
    },
    {
      "cell_type": "code",
      "source": [
        "model = pipeline.fit(trainingData)\n",
        "predictions = model.transform(testData)"
      ],
      "metadata": {
        "id": "H7Hvcx1jGYwk"
      },
      "execution_count": null,
      "outputs": []
    },
    {
      "cell_type": "code",
      "source": [
        "predictions.select(\"predictedLabel\", \"label\", \"features\").show(5)"
      ],
      "metadata": {
        "colab": {
          "base_uri": "https://localhost:8080/"
        },
        "id": "F7E_W2sWGeO8",
        "outputId": "e909c075-d69b-423c-a2c7-603696155490"
      },
      "execution_count": null,
      "outputs": [
        {
          "output_type": "stream",
          "name": "stdout",
          "text": [
            "+--------------+-----+--------------------+\n",
            "|predictedLabel|label|            features|\n",
            "+--------------+-----+--------------------+\n",
            "|            27|   12|[18.0,1.223435399...|\n",
            "|            21|   23|[18.0,1.255646443...|\n",
            "|            26|    6|[18.0,1.259994546...|\n",
            "|            27|   31|[18.0,1.345456737...|\n",
            "|            14|    9|[18.0,1.379872814...|\n",
            "+--------------+-----+--------------------+\n",
            "only showing top 5 rows\n",
            "\n"
          ]
        }
      ]
    },
    {
      "cell_type": "code",
      "source": [
        "evaluator = MulticlassClassificationEvaluator(\n",
        "    labelCol=\"indexedLabel\", predictionCol=\"prediction\", metricName=\"accuracy\")\n",
        "accuracy = evaluator.evaluate(predictions)\n",
        "print(\"Test Error = %g\" % (1.0 - accuracy))"
      ],
      "metadata": {
        "colab": {
          "base_uri": "https://localhost:8080/"
        },
        "id": "GQ1pHabpGgg7",
        "outputId": "31490693-5378-4d85-c95e-8036a79dedff"
      },
      "execution_count": null,
      "outputs": [
        {
          "output_type": "stream",
          "name": "stdout",
          "text": [
            "Test Error = 0.95935\n"
          ]
        }
      ]
    },
    {
      "cell_type": "code",
      "source": [
        "rfModel = model.stages[2]\n",
        "print(rfModel) "
      ],
      "metadata": {
        "colab": {
          "base_uri": "https://localhost:8080/"
        },
        "id": "-wJia4MuGgij",
        "outputId": "6ed4f65c-6f8c-4b34-d3a6-fb617c1255e4"
      },
      "execution_count": null,
      "outputs": [
        {
          "output_type": "stream",
          "name": "stdout",
          "text": [
            "RandomForestClassificationModel: uid=RandomForestClassifier_4644dc1e5dfb, numTrees=10, numClasses=29, numFeatures=4\n"
          ]
        }
      ]
    }
  ]
}